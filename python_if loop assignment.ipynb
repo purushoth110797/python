{
 "cells": [
  {
   "cell_type": "code",
   "execution_count": 1,
   "id": "713e470c",
   "metadata": {},
   "outputs": [
    {
     "name": "stdout",
     "output_type": "stream",
     "text": [
      "Please enter a text to find out whether it is palindrome or not:malayalam\n",
      "The entered text is palindrome\n"
     ]
    }
   ],
   "source": [
    "## palindrome or not\n",
    "\n",
    "text = input(\"Please enter a text to find out whether it is palindrome or not:\")\n",
    "reversed_text = text[::-1]\n",
    "\n",
    "if text == reversed_text:\n",
    "    print(\"The entered text is palindrome\")\n",
    "else:\n",
    "    print(\"The entered text is not palindrome\")"
   ]
  },
  {
   "cell_type": "code",
   "execution_count": null,
   "id": "f77eeb15",
   "metadata": {},
   "outputs": [],
   "source": [
    "## Traffic rules\n",
    "## getting inputs\n",
    "police_availability = input(\"Please enter the availability of police\\nIf police is there please enter Yes otherwise enter No:\")\n",
    "signal_status = input(\"Please enter the current signal light:\")\n",
    "\n",
    "if police_availability.lower() == \"yes\" or police_availability.lower() == \"no\":\n",
    "    if signal_status.lower() == \"red\" or signal_status.lower() == \"yellow\" or signal_status.lower() == \"green\":\n",
    "            if police_availability.lower() == \"yes\" and signal_status.lower() == \"red\":\n",
    "                print(\"Please Stop\")\n",
    "            elif police_availability.lower() == \"no\" and signal_status.lower() == \"red\":\n",
    "                print(\"Please Go\")\n",
    "            elif police_availability.lower() == \"yes\" and signal_status.lower() == \"yellow\":\n",
    "                print(\"Please Go slow\")\n",
    "            elif police_availability.lower() == \"no\" and signal_status.lower() == \"yellow\":\n",
    "                print(\"Please Go\")\n",
    "            elif police_availability.lower() == \"yes\" or police_availability.lower() == \"no\":\n",
    "                if signal_status.lower() == \"green\":\n",
    "                    print(\"Please Go\")\n",
    "else:\n",
    "    print(\"Invalid input, Please enter the valid input\")\n",
    "        "
   ]
  },
  {
   "cell_type": "code",
   "execution_count": 1,
   "id": "c215a630",
   "metadata": {},
   "outputs": [
    {
     "name": "stdout",
     "output_type": "stream",
     "text": [
      "User name: ['train', 'Hello', 'test']\n",
      "Mail: ['gmail', 'yahoo']\n"
     ]
    }
   ],
   "source": [
    "## To get user name and mail in different list without duplicates\n",
    "User_name = set()\n",
    "User_mail = set()\n",
    "\n",
    "a = [\"test@gmail.com\", \"train@gmail.com\", \"Hello@yahoo.com\", \"test@yahoo.com\"]\n",
    "\n",
    "for i in a:\n",
    "     split = i.split(\"@\")\n",
    "     name = split[0]\n",
    "     User_name.add(name)\n",
    "     mail = split[-1].split(\".\")[0]\n",
    "     User_mail. add(mail)\n",
    "    \n",
    "print(\"User name:\",list(User_name))\n",
    "print(\"Mail:\",list(User_mail))"
   ]
  },
  {
   "cell_type": "code",
   "execution_count": null,
   "id": "0f16c1ad",
   "metadata": {},
   "outputs": [],
   "source": []
  },
  {
   "cell_type": "code",
   "execution_count": null,
   "id": "765da319",
   "metadata": {},
   "outputs": [],
   "source": [
    "## get three input from user 1.start, 2.End 3.mode --> odd or even to print odd or even number from specific start and end point.\n",
    "\n",
    "odd_number = []\n",
    "even_number = []\n",
    "\n",
    "start = int(input(\"Please enter the starting number:\"))\n",
    "end = int(input(\"Please enter the ending number:\"))\n",
    "mode = input(\"Please enter mode of the squence ODD or EVEN:\")\n",
    "\n",
    "if mode.lower() == \"odd\" or mode.lower() == \"even\":\n",
    "    if mode.lower() == \"odd\":\n",
    "        for o in range(start,end):\n",
    "            if(o%2) == 1:\n",
    "                odd_number.append(o)\n",
    "        \n",
    "    elif mode.lower() == \"even\":\n",
    "        for e in range(start,end):\n",
    "            if (e%2) == 0:\n",
    "                even_number.append(e)\n",
    "    \n",
    "    \n",
    "else:\n",
    "    print(\"Invalid input, Please enter the valid input\")\n",
    "\n",
    "if mode.lower() == \"odd\":\n",
    "    print(\"The Sequence are:\",odd_number) \n",
    "else:\n",
    "    print(\"The Sequence are:\",even_number) "
   ]
  },
  {
   "cell_type": "code",
   "execution_count": null,
   "id": "e8ca1937",
   "metadata": {},
   "outputs": [],
   "source": []
  }
 ],
 "metadata": {
  "kernelspec": {
   "display_name": "Python 3 (ipykernel)",
   "language": "python",
   "name": "python3"
  },
  "language_info": {
   "codemirror_mode": {
    "name": "ipython",
    "version": 3
   },
   "file_extension": ".py",
   "mimetype": "text/x-python",
   "name": "python",
   "nbconvert_exporter": "python",
   "pygments_lexer": "ipython3",
   "version": "3.10.9"
  }
 },
 "nbformat": 4,
 "nbformat_minor": 5
}
